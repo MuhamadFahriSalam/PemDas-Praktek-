{
 "cells": [
  {
   "cell_type": "code",
   "execution_count": 7,
   "metadata": {},
   "outputs": [
    {
     "name": "stdout",
     "output_type": "stream",
     "text": [
      "x + y= 61\n",
      "x - y= 39\n",
      "x * y= 550\n",
      "x / y= 4.545454545454546\n",
      "x // y= 4\n",
      "x % y= 6\n",
      "x ** y= 4882812500000000000\n",
      "x>y =\t: True\n"
     ]
    }
   ],
   "source": [
    "x = 50\n",
    "y = 11\n",
    "\n",
    "print(\"x + y=\", x+y)\n",
    "print(\"x - y=\", x-y)\n",
    "print(\"x * y=\", x*y)\n",
    "print(\"x / y=\", x/y)\n",
    "print(\"x // y=\", x//y)\n",
    "print(\"x % y=\", x%y)\n",
    "print(\"x ** y=\", x**y)\n",
    "print(\"x>y =\\t:\", x > y)\n"
   ]
  }
 ],
 "metadata": {
  "kernelspec": {
   "display_name": "Python 3",
   "language": "python",
   "name": "python3"
  },
  "language_info": {
   "codemirror_mode": {
    "name": "ipython",
    "version": 3
   },
   "file_extension": ".py",
   "mimetype": "text/x-python",
   "name": "python",
   "nbconvert_exporter": "python",
   "pygments_lexer": "ipython3",
   "version": "3.12.1"
  }
 },
 "nbformat": 4,
 "nbformat_minor": 2
}
